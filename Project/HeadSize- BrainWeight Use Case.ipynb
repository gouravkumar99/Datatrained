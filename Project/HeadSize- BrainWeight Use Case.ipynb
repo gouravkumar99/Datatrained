{
 "cells": [
  {
   "cell_type": "code",
   "execution_count": 53,
   "id": "f56f7a33",
   "metadata": {},
   "outputs": [],
   "source": [
    "import numpy as np # linear algebra\n",
    "import pandas as pd # data processing, CSV file I/O (e.g. pd.read_csv)\n",
    "import seaborn as sns\n",
    "import matplotlib.pyplot as plt\n",
    "\n",
    "from sklearn.metrics import classification_report\n",
    "from sklearn.model_selection import train_test_split\n",
    "from sklearn.linear_model import LinearRegression\n",
    "from sklearn.metrics import r2_score\n",
    "import pickle"
   ]
  },
  {
   "cell_type": "code",
   "execution_count": 3,
   "id": "02b38e50",
   "metadata": {},
   "outputs": [],
   "source": [
    "#import data\n",
    "headbrain = pd.read_csv('headbrain.csv')"
   ]
  },
  {
   "cell_type": "code",
   "execution_count": 4,
   "id": "1f8dd136",
   "metadata": {},
   "outputs": [
    {
     "data": {
      "text/html": [
       "<div>\n",
       "<style scoped>\n",
       "    .dataframe tbody tr th:only-of-type {\n",
       "        vertical-align: middle;\n",
       "    }\n",
       "\n",
       "    .dataframe tbody tr th {\n",
       "        vertical-align: top;\n",
       "    }\n",
       "\n",
       "    .dataframe thead th {\n",
       "        text-align: right;\n",
       "    }\n",
       "</style>\n",
       "<table border=\"1\" class=\"dataframe\">\n",
       "  <thead>\n",
       "    <tr style=\"text-align: right;\">\n",
       "      <th></th>\n",
       "      <th>Gender</th>\n",
       "      <th>AgeRange</th>\n",
       "      <th>HeadSize</th>\n",
       "      <th>BrainWeight</th>\n",
       "    </tr>\n",
       "  </thead>\n",
       "  <tbody>\n",
       "    <tr>\n",
       "      <th>0</th>\n",
       "      <td>1</td>\n",
       "      <td>1</td>\n",
       "      <td>4512</td>\n",
       "      <td>1530</td>\n",
       "    </tr>\n",
       "    <tr>\n",
       "      <th>1</th>\n",
       "      <td>1</td>\n",
       "      <td>1</td>\n",
       "      <td>3738</td>\n",
       "      <td>1297</td>\n",
       "    </tr>\n",
       "    <tr>\n",
       "      <th>2</th>\n",
       "      <td>1</td>\n",
       "      <td>1</td>\n",
       "      <td>4261</td>\n",
       "      <td>1335</td>\n",
       "    </tr>\n",
       "    <tr>\n",
       "      <th>3</th>\n",
       "      <td>1</td>\n",
       "      <td>1</td>\n",
       "      <td>3777</td>\n",
       "      <td>1282</td>\n",
       "    </tr>\n",
       "    <tr>\n",
       "      <th>4</th>\n",
       "      <td>1</td>\n",
       "      <td>1</td>\n",
       "      <td>4177</td>\n",
       "      <td>1590</td>\n",
       "    </tr>\n",
       "  </tbody>\n",
       "</table>\n",
       "</div>"
      ],
      "text/plain": [
       "   Gender  AgeRange  HeadSize  BrainWeight\n",
       "0       1         1      4512         1530\n",
       "1       1         1      3738         1297\n",
       "2       1         1      4261         1335\n",
       "3       1         1      3777         1282\n",
       "4       1         1      4177         1590"
      ]
     },
     "execution_count": 4,
     "metadata": {},
     "output_type": "execute_result"
    }
   ],
   "source": [
    "#check first 5 rows\n",
    "headbrain.head()"
   ]
  },
  {
   "cell_type": "code",
   "execution_count": 5,
   "id": "e8f690d2",
   "metadata": {},
   "outputs": [
    {
     "data": {
      "text/plain": [
       "(237, 4)"
      ]
     },
     "execution_count": 5,
     "metadata": {},
     "output_type": "execute_result"
    }
   ],
   "source": [
    "#check row and columns\n",
    "headbrain.shape"
   ]
  },
  {
   "cell_type": "code",
   "execution_count": 6,
   "id": "e65fd292",
   "metadata": {},
   "outputs": [
    {
     "name": "stdout",
     "output_type": "stream",
     "text": [
      "<class 'pandas.core.frame.DataFrame'>\n",
      "RangeIndex: 237 entries, 0 to 236\n",
      "Data columns (total 4 columns):\n",
      " #   Column       Non-Null Count  Dtype\n",
      "---  ------       --------------  -----\n",
      " 0   Gender       237 non-null    int64\n",
      " 1   AgeRange     237 non-null    int64\n",
      " 2   HeadSize     237 non-null    int64\n",
      " 3   BrainWeight  237 non-null    int64\n",
      "dtypes: int64(4)\n",
      "memory usage: 7.5 KB\n",
      "None\n"
     ]
    }
   ],
   "source": [
    "print(headbrain.info())"
   ]
  },
  {
   "cell_type": "code",
   "execution_count": 7,
   "id": "e689f0bc",
   "metadata": {},
   "outputs": [
    {
     "name": "stdout",
     "output_type": "stream",
     "text": [
      "Gender         False\n",
      "AgeRange       False\n",
      "HeadSize       False\n",
      "BrainWeight    False\n",
      "dtype: bool\n"
     ]
    }
   ],
   "source": [
    "print(headbrain.isnull().any())"
   ]
  },
  {
   "cell_type": "code",
   "execution_count": 8,
   "id": "4ef3f6ee",
   "metadata": {},
   "outputs": [
    {
     "name": "stdout",
     "output_type": "stream",
     "text": [
      "Gender           2\n",
      "AgeRange         2\n",
      "HeadSize       221\n",
      "BrainWeight    146\n",
      "dtype: int64\n"
     ]
    }
   ],
   "source": [
    "print(headbrain.nunique())"
   ]
  },
  {
   "cell_type": "code",
   "execution_count": 15,
   "id": "ae3b2102",
   "metadata": {},
   "outputs": [
    {
     "data": {
      "text/plain": [
       "Index(['Gender', 'AgeRange', 'HeadSize', 'BrainWeight'], dtype='object')"
      ]
     },
     "execution_count": 15,
     "metadata": {},
     "output_type": "execute_result"
    }
   ],
   "source": [
    "headbrain.columns"
   ]
  },
  {
   "cell_type": "code",
   "execution_count": 16,
   "id": "dca584b8",
   "metadata": {},
   "outputs": [
    {
     "data": {
      "text/plain": [
       "<AxesSubplot:xlabel='HeadSize', ylabel='BrainWeight'>"
      ]
     },
     "execution_count": 16,
     "metadata": {},
     "output_type": "execute_result"
    },
    {
     "data": {
      "image/png": "[encoded data removed]",
      "text/plain": [
       "<Figure size 720x720 with 1 Axes>"
      ]
     },
     "metadata": {
      "needs_background": "light"
     },
     "output_type": "display_data"
    }
   ],
   "source": [
    "plt.figure(figsize=(10,10))\n",
    "sns.scatterplot(y='BrainWeight',x='HeadSize',data=headbrain)"
   ]
  },
  {
   "cell_type": "code",
   "execution_count": null,
   "id": "0bc16631",
   "metadata": {},
   "outputs": [],
   "source": []
  },
  {
   "cell_type": "code",
   "execution_count": 17,
   "id": "24eb3c77",
   "metadata": {},
   "outputs": [
    {
     "data": {
      "text/plain": [
       "((237,), (237,))"
      ]
     },
     "execution_count": 17,
     "metadata": {},
     "output_type": "execute_result"
    }
   ],
   "source": [
    "headbrain  = headbrain.values\n",
    "\n",
    "X = headbrain[:,2]\n",
    "Y = headbrain[:,3]\n",
    "\n",
    "X.shape,Y.shape"
   ]
  },
  {
   "cell_type": "code",
   "execution_count": null,
   "id": "53d7dc6b",
   "metadata": {},
   "outputs": [],
   "source": []
  },
  {
   "cell_type": "markdown",
   "id": "dbe93e86",
   "metadata": {},
   "source": [
    "# Calculate the slope and y-intercept"
   ]
  },
  {
   "cell_type": "code",
   "execution_count": 18,
   "id": "569a1010",
   "metadata": {},
   "outputs": [],
   "source": [
    "def Linear_Regression(X,Y):\n",
    "    mean_x = np.mean(X)\n",
    "    mean_y = np.mean(Y)\n",
    "\n",
    "    n = len(X)\n",
    "    numerator= 0\n",
    "    denominator=0\n",
    "    for i in range(n):\n",
    "        numerator   += ((X[i] - mean_x) * (Y[i] - mean_y))\n",
    "        denominator += ((X[i] - mean_x) ** 2)\n",
    "\n",
    "    m = numerator/ denominator\n",
    "    c = mean_y - m * mean_x\n",
    "    \n",
    "    return(m,c)\n",
    "\n",
    "def predict(X,m,c):\n",
    "    pred_y=[]\n",
    "    for i in range(len(X)):\n",
    "        pred_y.append(c + m * X[i])\n",
    "\n",
    "    return(pred_y)"
   ]
  },
  {
   "cell_type": "code",
   "execution_count": 19,
   "id": "27b2c67a",
   "metadata": {},
   "outputs": [],
   "source": [
    "def r2score(y_obs,y_pred):\n",
    "    yhat = np.mean(y_obs)\n",
    "    \n",
    "    ss_res = 0.0\n",
    "    ss_tot = 0.0\n",
    "    \n",
    "    for i in range(len(y_obs)):\n",
    "        ss_tot += (y_obs[i]-yhat)**2\n",
    "        ss_res += (y_obs[i]-y_pred[i])**2\n",
    "        \n",
    "    r2 = 1 - (ss_res/ss_tot)\n",
    "\n",
    "    return r2"
   ]
  },
  {
   "cell_type": "code",
   "execution_count": 20,
   "id": "ce88e77e",
   "metadata": {},
   "outputs": [
    {
     "name": "stdout",
     "output_type": "stream",
     "text": [
      "slope =  0.25696700576341663\n",
      "intercept =  347.62963264588905\n",
      "R-squared : 0.6803602591876574\n"
     ]
    },
    {
     "data": {
      "image/png": "[encoded data removed]",
      "text/plain": [
       "<Figure size 432x288 with 1 Axes>"
      ]
     },
     "metadata": {
      "needs_background": "light"
     },
     "output_type": "display_data"
    }
   ],
   "source": [
    "plt.title(\"Linear Regression Plot of HeadSize Vs Brain Weight\")\n",
    "\n",
    "X_train,X_test,y_train,y_test = train_test_split(X,Y,test_size=0.3)\n",
    "\n",
    "m,c = Linear_Regression(X_train,y_train)\n",
    "print(\"slope = \", m)\n",
    "print('intercept = ',c)\n",
    "      \n",
    "y_pred =  predict(X_test,m,c)\n",
    "\n",
    "print(\"R-squared :\",r2score(y_test,y_pred))\n",
    "\n",
    "plt.plot(X_test,y_pred,color='red',label='Linear Regression')\n",
    "plt.scatter(X_train,y_train,c='b',label='Scatter Plot')\n",
    "plt.xlabel(\"Head Size\")\n",
    "plt.ylabel(\"Brain Weight\")\n",
    "plt.legend()\n",
    "plt.show()"
   ]
  },
  {
   "cell_type": "markdown",
   "id": "985cfaab",
   "metadata": {},
   "source": [
    "We can see this using the inbuilt Sklearn Linear Regression model"
   ]
  },
  {
   "cell_type": "code",
   "execution_count": 42,
   "id": "e705f4c6",
   "metadata": {},
   "outputs": [
    {
     "name": "stdout",
     "output_type": "stream",
     "text": [
      "R-squared : 0.6304659211568686\n"
     ]
    }
   ],
   "source": [
    "#Reshape the input data into 2D array\n",
    "X = X.reshape(len(X),1)\n",
    "\n",
    "X_train,X_test,y_train,y_test = train_test_split(X,Y,test_size=0.3)\n",
    "\n",
    "reg = LinearRegression()\n",
    "reg.fit(X_train,y_train)\n",
    "\n",
    "y_predictions = reg.predict(X_test)\n",
    "\n",
    "print(\"R-squared :\",r2_score(y_test, y_predictions))\n"
   ]
  },
  {
   "cell_type": "code",
   "execution_count": 51,
   "id": "fcf8b5d0",
   "metadata": {},
   "outputs": [],
   "source": []
  },
  {
   "cell_type": "markdown",
   "id": "ea760fe3",
   "metadata": {},
   "source": [
    "# Saving Model"
   ]
  },
  {
   "cell_type": "code",
   "execution_count": 52,
   "id": "fab4681a",
   "metadata": {},
   "outputs": [],
   "source": [
    "file = 'HeadSize- BrainWeight Use Case'\n",
    "#save file\n",
    "save = pickle.dump(reg,open(file,'wb'))"
   ]
  },
  {
   "cell_type": "code",
   "execution_count": null,
   "id": "16b67d1a",
   "metadata": {},
   "outputs": [],
   "source": []
  },
  {
   "cell_type": "code",
   "execution_count": null,
   "id": "51ff151f",
   "metadata": {},
   "outputs": [],
   "source": []
  }
 ],
 "metadata": {
  "kernelspec": {
   "display_name": "Python 3",
   "language": "python",
   "name": "python3"
  },
  "language_info": {
   "codemirror_mode": {
    "name": "ipython",
    "version": 3
   },
   "file_extension": ".py",
   "mimetype": "text/x-python",
   "name": "python",
   "nbconvert_exporter": "python",
   "pygments_lexer": "ipython3",
   "version": "3.8.8"
  },
  "varInspector": {
   "cols": {
    "lenName": 16,
    "lenType": 16,
    "lenVar": 40
   },
   "kernels_config": {
    "python": {
     "delete_cmd_postfix": "",
     "delete_cmd_prefix": "del ",
     "library": "var_list.py",
     "varRefreshCmd": "print(var_dic_list())"
    },
    "r": {
     "delete_cmd_postfix": ") ",
     "delete_cmd_prefix": "rm(",
     "library": "var_list.r",
     "varRefreshCmd": "cat(var_dic_list()) "
    }
   },
   "types_to_exclude": [
    "module",
    "function",
    "builtin_function_or_method",
    "instance",
    "_Feature"
   ],
   "window_display": false
  }
 },
 "nbformat": 4,
 "nbformat_minor": 5
}
